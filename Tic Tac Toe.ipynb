{
 "cells": [
  {
   "cell_type": "code",
   "execution_count": 1,
   "metadata": {},
   "outputs": [],
   "source": [
    "from IPython.display import clear_output\n",
    "\n",
    "def display_board(board,n):\n",
    "    clear_output()\n",
    "    if n==1:\n",
    "        n=2\n",
    "    else:\n",
    "        n=1\n",
    "    for y in range(0,3):\n",
    "        print(board[3*y+1]+'|'+board[3*y+2]+'|'+board[3*y+3])\n",
    "        for x in range(0,y<2):\n",
    "               print('_ _ _')\n",
    "    return n"
   ]
  },
  {
   "cell_type": "code",
   "execution_count": 2,
   "metadata": {},
   "outputs": [],
   "source": [
    "def player_input():\n",
    "    p1=''\n",
    "    while p1!='X' and p1!='O':\n",
    "        p1=input('enter the marker of player 1:')\n",
    "        \n",
    "    player1=p1  \n",
    "    if player1=='X':\n",
    "        player2='O'\n",
    "    else:\n",
    "        player2='X'\n",
    "    return (player1,player2)"
   ]
  },
  {
   "cell_type": "code",
   "execution_count": 3,
   "metadata": {},
   "outputs": [],
   "source": [
    "def place_marker(board, marker, position):\n",
    "    board[position]=marker"
   ]
  },
  {
   "cell_type": "code",
   "execution_count": 4,
   "metadata": {},
   "outputs": [],
   "source": [
    "def win_check(board, mark):\n",
    "    \n",
    "    if (board[7] == board[8] == board[9] == mark) or(board[4]==board[5]==board[6] == mark) or(board[1] == board[2] == board[3] == mark) or    (board[7] == mark and board[4] == mark and board[1] == mark) or (board[8] == board[5] == board[2] == mark) or (board[9] == board[6] == board[3] == mark) or (board[7] == board[5] == board[3] == mark) or (board[9] ==board[5] == board[1] == mark):\n",
    "        print(mark, 'WINS!!')\n",
    "        return False\n",
    "    else:\n",
    "        return True"
   ]
  },
  {
   "cell_type": "code",
   "execution_count": 5,
   "metadata": {},
   "outputs": [],
   "source": [
    "import random\n",
    "\n",
    "def choose_first():\n",
    "            x=random.randint(1,2)\n",
    "            print(\"Player\",x,\"will go First!\")\n",
    "            return x\n",
    "            "
   ]
  },
  {
   "cell_type": "code",
   "execution_count": 6,
   "metadata": {},
   "outputs": [],
   "source": [
    "def space_check(board, position):\n",
    "    \n",
    "    if board[position]!=' ':\n",
    "        print('position occupied')\n",
    "        return player_choice(board)"
   ]
  },
  {
   "cell_type": "code",
   "execution_count": 7,
   "metadata": {},
   "outputs": [],
   "source": [
    "def full_board_check(board):\n",
    "    \n",
    "    return ' ' in board\n",
    "    "
   ]
  },
  {
   "cell_type": "code",
   "execution_count": 8,
   "metadata": {},
   "outputs": [],
   "source": [
    "def player_choice(board):\n",
    "    p1=0\n",
    "    while p1 not in [1,2,3,4,5,6,7,8,9]:\n",
    "        p1=int(input('Enter the position :'))\n",
    "        space_check(board,p1)\n",
    "    return p1"
   ]
  },
  {
   "cell_type": "code",
   "execution_count": 9,
   "metadata": {},
   "outputs": [],
   "source": [
    "def replay():\n",
    "    choice=input('Do you want to play again(Yes/No)')\n",
    "    if choice.upper()=='YES':\n",
    "        return True\n",
    "    else:\n",
    "        return False\n",
    "    "
   ]
  },
  {
   "cell_type": "markdown",
   "metadata": {},
   "source": [
    "\n"
   ]
  },
  {
   "cell_type": "code",
   "execution_count": 10,
   "metadata": {},
   "outputs": [
    {
     "name": "stdout",
     "output_type": "stream",
     "text": [
      "O|X| \n",
      "_ _ _\n",
      "O|X| \n",
      "_ _ _\n",
      "O| | \n",
      "O WINS!!\n",
      "game over\n",
      "Do you want to play again(Yes/No)no\n"
     ]
    }
   ],
   "source": [
    "print('Welcome to Tic Tac Toe!')\n",
    "\n",
    "\n",
    "\n",
    "player1_marker,player2_marker=player_input()\n",
    "\n",
    "m=choose_first()\n",
    "\n",
    "choice=True\n",
    "while choice:\n",
    "    game=True\n",
    "    gboard=['#',' ',' ',' ',' ',' ',' ',' ',' ',' ']\n",
    "    while game==True:\n",
    "    \n",
    "    \n",
    "    \n",
    "        if m==1: \n",
    "            c1=player_choice(gboard)\n",
    "            place_marker(gboard,player1_marker,c1)\n",
    "            m=display_board(gboard,m)\n",
    "            game=win_check(gboard,player1_marker)\n",
    "            if not full_board_check(gboard):\n",
    "                game=False\n",
    "                    \n",
    "            \n",
    "        \n",
    "        else:\n",
    "            c2=player_choice(gboard)\n",
    "            place_marker(gboard,player2_marker,c2)\n",
    "            m=display_board(gboard,m)\n",
    "            game=win_check(gboard,player2_marker)\n",
    "            if not full_board_check(gboard):\n",
    "                game=False\n",
    "            \n",
    "    else:\n",
    "        print(\"game over\")\n",
    "        choice=replay()    \n",
    "\n",
    "\n",
    "\n",
    "    \n",
    "        \n",
    "\n",
    "    "
   ]
  },
  {
   "cell_type": "code",
   "execution_count": 13,
   "metadata": {},
   "outputs": [
    {
     "data": {
      "text/plain": [
       "True"
      ]
     },
     "execution_count": 13,
     "metadata": {},
     "output_type": "execute_result"
    }
   ],
   "source": [
    "test=['#','A','A',' ',' ','A','A',' ','A',' ']\n",
    "win_check(test,'E')\n"
   ]
  },
  {
   "cell_type": "code",
   "execution_count": null,
   "metadata": {},
   "outputs": [],
   "source": []
  }
 ],
 "metadata": {
  "kernelspec": {
   "display_name": "Python 3",
   "language": "python",
   "name": "python3"
  },
  "language_info": {
   "codemirror_mode": {
    "name": "ipython",
    "version": 3
   },
   "file_extension": ".py",
   "mimetype": "text/x-python",
   "name": "python",
   "nbconvert_exporter": "python",
   "pygments_lexer": "ipython3",
   "version": "3.6.4"
  }
 },
 "nbformat": 4,
 "nbformat_minor": 2
}
